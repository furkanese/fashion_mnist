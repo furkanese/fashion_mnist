{
 "cells": [
  {
   "cell_type": "code",
   "execution_count": 1,
   "metadata": {},
   "outputs": [
    {
     "name": "stderr",
     "output_type": "stream",
     "text": [
      "Using TensorFlow backend.\n"
     ]
    }
   ],
   "source": [
    "import keras\n",
    "from utils import util\n",
    "import pandas as pd\n",
    "import numpy as np\n",
    "from keras.utils import to_categorical"
   ]
  },
  {
   "cell_type": "code",
   "execution_count": 2,
   "metadata": {},
   "outputs": [],
   "source": [
    "data_train = pd.read_csv('./fashionmnist/fashion-mnist_train.csv')\n",
    "data_test = pd.read_csv('./fashionmnist/fashion-mnist_test.csv')\n",
    "\n",
    "\n",
    "X = np.array(data_train.iloc[:, 1:])\n",
    "y = to_categorical(np.array(data_train.iloc[:, 0]))\n",
    "\n",
    "#Test data\n",
    "X_test = np.array(data_test.iloc[:, 1:])\n",
    "y_test = to_categorical(np.array(data_test.iloc[:, 0]))\n",
    "y_true = data_test.iloc[:, 0]\n",
    "\n",
    "# we don't need training data \n",
    "_, _, _, _, _, X_te_res, _, _ = util.prepare_data(X,y,X_test)\n",
    "X_test_flat = X_test.flatten().reshape(X_test.shape[0], 784)\n",
    "_, _, _, _, _, X_te_75, _,_ = util.prepare_data(X,y,X_test,75,75)\n",
    "\n",
    "accuracies = {}"
   ]
  },
  {
   "cell_type": "markdown",
   "metadata": {},
   "source": [
    "# MLP"
   ]
  },
  {
   "cell_type": "code",
   "execution_count": 3,
   "metadata": {},
   "outputs": [
    {
     "name": "stdout",
     "output_type": "stream",
     "text": [
      "Loaded model from disk\n",
      "              precision    recall  f1-score   support\n",
      "\n",
      "     Class 0       0.79      0.90      0.84      1000\n",
      "     Class 1       0.98      0.99      0.98      1000\n",
      "     Class 2       0.91      0.66      0.77      1000\n",
      "     Class 3       0.95      0.86      0.90      1000\n",
      "     Class 4       0.70      0.95      0.81      1000\n",
      "     Class 5       0.99      0.94      0.96      1000\n",
      "     Class 6       0.78      0.69      0.73      1000\n",
      "     Class 7       0.96      0.90      0.93      1000\n",
      "     Class 8       0.98      0.97      0.97      1000\n",
      "     Class 9       0.89      0.99      0.94      1000\n",
      "\n",
      "   micro avg       0.88      0.88      0.88     10000\n",
      "   macro avg       0.89      0.88      0.88     10000\n",
      "weighted avg       0.89      0.88      0.88     10000\n",
      "\n"
     ]
    },
    {
     "name": "stderr",
     "output_type": "stream",
     "text": [
      "/home/furkan/anaconda3/lib/python3.6/site-packages/numpy/core/fromnumeric.py:52: FutureWarning: Series.nonzero() is deprecated and will be removed in a future version.Use Series.to_numpy().nonzero() instead\n",
      "  return getattr(obj, method)(*args, **kwds)\n"
     ]
    }
   ],
   "source": [
    "model = util.load_model('mlp_50ep', optimizer='rmsprop')\n",
    "score = util.get_scores(model, X_test_flat, y_test, y_true)\n",
    "accuracies['mlp'] = score[1]\n",
    "del model"
   ]
  },
  {
   "cell_type": "markdown",
   "metadata": {},
   "source": [
    "# Simple CNN"
   ]
  },
  {
   "cell_type": "code",
   "execution_count": 4,
   "metadata": {},
   "outputs": [
    {
     "name": "stdout",
     "output_type": "stream",
     "text": [
      "Loaded model from disk\n",
      "              precision    recall  f1-score   support\n",
      "\n",
      "     Class 0       0.85      0.90      0.87      1000\n",
      "     Class 1       0.99      0.99      0.99      1000\n",
      "     Class 2       0.89      0.88      0.89      1000\n",
      "     Class 3       0.92      0.92      0.92      1000\n",
      "     Class 4       0.89      0.88      0.88      1000\n",
      "     Class 5       0.98      0.98      0.98      1000\n",
      "     Class 6       0.78      0.76      0.77      1000\n",
      "     Class 7       0.96      0.95      0.96      1000\n",
      "     Class 8       0.97      0.98      0.98      1000\n",
      "     Class 9       0.96      0.97      0.96      1000\n",
      "\n",
      "   micro avg       0.92      0.92      0.92     10000\n",
      "   macro avg       0.92      0.92      0.92     10000\n",
      "weighted avg       0.92      0.92      0.92     10000\n",
      "\n"
     ]
    }
   ],
   "source": [
    "model = util.load_model('simple_cnn_50ep', optimizer='adam')\n",
    "score = util.get_scores(model, X_te_res, y_test, y_true)\n",
    "accuracies['simple_cnn_50ep'] = score[1]\n",
    "del model"
   ]
  },
  {
   "cell_type": "code",
   "execution_count": 5,
   "metadata": {},
   "outputs": [
    {
     "name": "stdout",
     "output_type": "stream",
     "text": [
      "Loaded model from disk\n",
      "              precision    recall  f1-score   support\n",
      "\n",
      "     Class 0       0.89      0.88      0.89      1000\n",
      "     Class 1       0.99      0.99      0.99      1000\n",
      "     Class 2       0.91      0.88      0.90      1000\n",
      "     Class 3       0.93      0.94      0.93      1000\n",
      "     Class 4       0.91      0.90      0.91      1000\n",
      "     Class 5       0.99      0.97      0.98      1000\n",
      "     Class 6       0.80      0.83      0.81      1000\n",
      "     Class 7       0.95      0.96      0.96      1000\n",
      "     Class 8       0.98      0.98      0.98      1000\n",
      "     Class 9       0.96      0.96      0.96      1000\n",
      "\n",
      "   micro avg       0.93      0.93      0.93     10000\n",
      "   macro avg       0.93      0.93      0.93     10000\n",
      "weighted avg       0.93      0.93      0.93     10000\n",
      "\n"
     ]
    }
   ],
   "source": [
    "model = util.load_model('simple_cnn_50ep_fine', optimizer='adam')\n",
    "score = util.get_scores(model, X_te_res, y_test, y_true)\n",
    "accuracies['simple_cnn_50ep_fine'] = score[1]\n",
    "del model"
   ]
  },
  {
   "cell_type": "markdown",
   "metadata": {},
   "source": [
    "# Simple CNN Dropout"
   ]
  },
  {
   "cell_type": "code",
   "execution_count": 6,
   "metadata": {},
   "outputs": [
    {
     "name": "stdout",
     "output_type": "stream",
     "text": [
      "Loaded model from disk\n",
      "              precision    recall  f1-score   support\n",
      "\n",
      "     Class 0       0.87      0.88      0.88      1000\n",
      "     Class 1       0.98      0.99      0.99      1000\n",
      "     Class 2       0.89      0.89      0.89      1000\n",
      "     Class 3       0.92      0.93      0.92      1000\n",
      "     Class 4       0.89      0.88      0.88      1000\n",
      "     Class 5       0.99      0.98      0.98      1000\n",
      "     Class 6       0.81      0.79      0.80      1000\n",
      "     Class 7       0.97      0.96      0.96      1000\n",
      "     Class 8       0.98      0.98      0.98      1000\n",
      "     Class 9       0.96      0.97      0.97      1000\n",
      "\n",
      "   micro avg       0.92      0.92      0.92     10000\n",
      "   macro avg       0.92      0.92      0.92     10000\n",
      "weighted avg       0.92      0.92      0.92     10000\n",
      "\n"
     ]
    }
   ],
   "source": [
    "model = util.load_model('simple_cnn_dropout_50ep', optimizer='adam')\n",
    "score = util.get_scores(model, X_te_res, y_test, y_true)\n",
    "accuracies['simple_cnn_dropout_50ep'] = score[1]\n",
    "del model"
   ]
  },
  {
   "cell_type": "code",
   "execution_count": 7,
   "metadata": {},
   "outputs": [
    {
     "name": "stdout",
     "output_type": "stream",
     "text": [
      "Loaded model from disk\n",
      "              precision    recall  f1-score   support\n",
      "\n",
      "     Class 0       0.88      0.89      0.89      1000\n",
      "     Class 1       0.99      0.99      0.99      1000\n",
      "     Class 2       0.91      0.89      0.90      1000\n",
      "     Class 3       0.92      0.95      0.93      1000\n",
      "     Class 4       0.91      0.90      0.90      1000\n",
      "     Class 5       0.99      0.98      0.98      1000\n",
      "     Class 6       0.81      0.79      0.80      1000\n",
      "     Class 7       0.96      0.96      0.96      1000\n",
      "     Class 8       0.98      0.98      0.98      1000\n",
      "     Class 9       0.96      0.97      0.97      1000\n",
      "\n",
      "   micro avg       0.93      0.93      0.93     10000\n",
      "   macro avg       0.93      0.93      0.93     10000\n",
      "weighted avg       0.93      0.93      0.93     10000\n",
      "\n"
     ]
    }
   ],
   "source": [
    "model = util.load_model('simple_cnn_dropout_50ep_fine', optimizer='adam')\n",
    "score = util.get_scores(model, X_te_res, y_test, y_true)\n",
    "accuracies['simple_cnn_dropout_50ep_fine'] = score[1]\n",
    "del model"
   ]
  },
  {
   "cell_type": "markdown",
   "metadata": {},
   "source": [
    "# Simple CNN BatchNorm"
   ]
  },
  {
   "cell_type": "code",
   "execution_count": 8,
   "metadata": {},
   "outputs": [
    {
     "name": "stdout",
     "output_type": "stream",
     "text": [
      "Loaded model from disk\n",
      "              precision    recall  f1-score   support\n",
      "\n",
      "     Class 0       0.83      0.89      0.86      1000\n",
      "     Class 1       0.98      0.99      0.98      1000\n",
      "     Class 2       0.89      0.89      0.89      1000\n",
      "     Class 3       0.93      0.93      0.93      1000\n",
      "     Class 4       0.90      0.88      0.89      1000\n",
      "     Class 5       0.99      0.98      0.99      1000\n",
      "     Class 6       0.80      0.75      0.78      1000\n",
      "     Class 7       0.94      0.98      0.96      1000\n",
      "     Class 8       0.97      0.98      0.98      1000\n",
      "     Class 9       0.98      0.95      0.96      1000\n",
      "\n",
      "   micro avg       0.92      0.92      0.92     10000\n",
      "   macro avg       0.92      0.92      0.92     10000\n",
      "weighted avg       0.92      0.92      0.92     10000\n",
      "\n"
     ]
    }
   ],
   "source": [
    "model = util.load_model('simple_cnn_bn_50ep', optimizer='adam')\n",
    "score = util.get_scores(model, X_te_res, y_test, y_true)\n",
    "accuracies['simple_cnn_bn_50ep'] = score[1]\n",
    "del model"
   ]
  },
  {
   "cell_type": "code",
   "execution_count": 9,
   "metadata": {},
   "outputs": [
    {
     "name": "stdout",
     "output_type": "stream",
     "text": [
      "Loaded model from disk\n",
      "              precision    recall  f1-score   support\n",
      "\n",
      "     Class 0       0.89      0.88      0.89      1000\n",
      "     Class 1       0.99      0.99      0.99      1000\n",
      "     Class 2       0.91      0.88      0.90      1000\n",
      "     Class 3       0.94      0.95      0.94      1000\n",
      "     Class 4       0.91      0.92      0.91      1000\n",
      "     Class 5       0.98      0.97      0.98      1000\n",
      "     Class 6       0.81      0.81      0.81      1000\n",
      "     Class 7       0.95      0.97      0.96      1000\n",
      "     Class 8       0.98      0.99      0.99      1000\n",
      "     Class 9       0.97      0.97      0.97      1000\n",
      "\n",
      "   micro avg       0.93      0.93      0.93     10000\n",
      "   macro avg       0.93      0.93      0.93     10000\n",
      "weighted avg       0.93      0.93      0.93     10000\n",
      "\n"
     ]
    }
   ],
   "source": [
    "model = util.load_model('simple_cnn_bn_50ep_fine', optimizer='adam')\n",
    "score = util.get_scores(model, X_te_res, y_test, y_true)\n",
    "accuracies['simple_cnn_bn_50ep_fine'] = score[1]\n",
    "del model"
   ]
  },
  {
   "cell_type": "markdown",
   "metadata": {},
   "source": [
    "# Simple CNN BatchNorm Dropout"
   ]
  },
  {
   "cell_type": "code",
   "execution_count": 10,
   "metadata": {},
   "outputs": [
    {
     "name": "stdout",
     "output_type": "stream",
     "text": [
      "Loaded model from disk\n",
      "              precision    recall  f1-score   support\n",
      "\n",
      "     Class 0       0.88      0.85      0.87      1000\n",
      "     Class 1       1.00      0.98      0.99      1000\n",
      "     Class 2       0.92      0.88      0.90      1000\n",
      "     Class 3       0.92      0.94      0.93      1000\n",
      "     Class 4       0.90      0.88      0.89      1000\n",
      "     Class 5       0.98      0.97      0.98      1000\n",
      "     Class 6       0.76      0.82      0.79      1000\n",
      "     Class 7       0.96      0.96      0.96      1000\n",
      "     Class 8       0.96      0.99      0.98      1000\n",
      "     Class 9       0.96      0.97      0.97      1000\n",
      "\n",
      "   micro avg       0.92      0.92      0.92     10000\n",
      "   macro avg       0.92      0.92      0.92     10000\n",
      "weighted avg       0.92      0.92      0.92     10000\n",
      "\n"
     ]
    }
   ],
   "source": [
    "model = util.load_model('simple_cnn_bn_do_50ep', optimizer='adam')\n",
    "score = util.get_scores(model, X_te_res, y_test, y_true)\n",
    "accuracies['simple_cnn_bn_do_50ep'] = score[1]\n",
    "del model"
   ]
  },
  {
   "cell_type": "code",
   "execution_count": 11,
   "metadata": {},
   "outputs": [
    {
     "name": "stdout",
     "output_type": "stream",
     "text": [
      "Loaded model from disk\n",
      "              precision    recall  f1-score   support\n",
      "\n",
      "     Class 0       0.88      0.88      0.88      1000\n",
      "     Class 1       0.99      0.99      0.99      1000\n",
      "     Class 2       0.91      0.90      0.90      1000\n",
      "     Class 3       0.93      0.94      0.93      1000\n",
      "     Class 4       0.91      0.90      0.91      1000\n",
      "     Class 5       0.99      0.97      0.98      1000\n",
      "     Class 6       0.80      0.81      0.81      1000\n",
      "     Class 7       0.95      0.97      0.96      1000\n",
      "     Class 8       0.99      0.98      0.99      1000\n",
      "     Class 9       0.97      0.97      0.97      1000\n",
      "\n",
      "   micro avg       0.93      0.93      0.93     10000\n",
      "   macro avg       0.93      0.93      0.93     10000\n",
      "weighted avg       0.93      0.93      0.93     10000\n",
      "\n"
     ]
    }
   ],
   "source": [
    "model = util.load_model('simple_cnn_bn_do_50ep_fine', optimizer='adam')\n",
    "score = util.get_scores(model, X_te_res, y_test, y_true)\n",
    "accuracies['simple_cnn_bn_do_50ep_fine'] = score[1]\n",
    "del model"
   ]
  },
  {
   "cell_type": "markdown",
   "metadata": {},
   "source": [
    "# Alexnet"
   ]
  },
  {
   "cell_type": "code",
   "execution_count": 12,
   "metadata": {},
   "outputs": [
    {
     "name": "stdout",
     "output_type": "stream",
     "text": [
      "Loaded model from disk\n",
      "              precision    recall  f1-score   support\n",
      "\n",
      "     Class 0       0.87      0.85      0.86      1000\n",
      "     Class 1       0.97      0.83      0.90      1000\n",
      "     Class 2       0.88      0.82      0.85      1000\n",
      "     Class 3       0.90      0.84      0.87      1000\n",
      "     Class 4       0.83      0.92      0.87      1000\n",
      "     Class 5       0.79      1.00      0.88      1000\n",
      "     Class 6       0.69      0.82      0.75      1000\n",
      "     Class 7       0.91      0.59      0.71      1000\n",
      "     Class 8       0.99      0.98      0.99      1000\n",
      "     Class 9       0.85      0.94      0.90      1000\n",
      "\n",
      "   micro avg       0.86      0.86      0.86     10000\n",
      "   macro avg       0.87      0.86      0.86     10000\n",
      "weighted avg       0.87      0.86      0.86     10000\n",
      "\n"
     ]
    }
   ],
   "source": [
    "model = util.load_model('alexnet_50ep', optimizer='adam')\n",
    "score = util.get_scores(model, X_te_res, y_test, y_true)\n",
    "accuracies['alexnet_50ep'] = score[1]\n",
    "del model"
   ]
  },
  {
   "cell_type": "code",
   "execution_count": 13,
   "metadata": {},
   "outputs": [
    {
     "name": "stdout",
     "output_type": "stream",
     "text": [
      "Loaded model from disk\n",
      "              precision    recall  f1-score   support\n",
      "\n",
      "     Class 0       0.80      0.86      0.83      1000\n",
      "     Class 1       0.91      0.52      0.66      1000\n",
      "     Class 2       0.79      0.84      0.81      1000\n",
      "     Class 3       0.77      0.80      0.78      1000\n",
      "     Class 4       0.74      0.72      0.73      1000\n",
      "     Class 5       0.98      0.98      0.98      1000\n",
      "     Class 6       0.64      0.84      0.73      1000\n",
      "     Class 7       0.94      0.98      0.96      1000\n",
      "     Class 8       0.98      0.96      0.97      1000\n",
      "     Class 9       0.99      0.95      0.97      1000\n",
      "\n",
      "   micro avg       0.84      0.84      0.84     10000\n",
      "   macro avg       0.85      0.84      0.84     10000\n",
      "weighted avg       0.85      0.84      0.84     10000\n",
      "\n"
     ]
    }
   ],
   "source": [
    "model = util.load_model('alexnet_50ep_fine', optimizer='adam')\n",
    "score = util.get_scores(model, X_te_res, y_test, y_true)\n",
    "accuracies['alexnet_50ep_fine'] = score[1]\n",
    "del model"
   ]
  },
  {
   "cell_type": "markdown",
   "metadata": {},
   "source": [
    "# MobilenetV2"
   ]
  },
  {
   "cell_type": "code",
   "execution_count": 14,
   "metadata": {},
   "outputs": [
    {
     "name": "stdout",
     "output_type": "stream",
     "text": [
      "Loaded model from disk\n",
      "              precision    recall  f1-score   support\n",
      "\n",
      "     Class 0       0.90      0.69      0.78      1000\n",
      "     Class 1       0.86      0.99      0.92      1000\n",
      "     Class 2       0.82      0.87      0.85      1000\n",
      "     Class 3       0.90      0.72      0.80      1000\n",
      "     Class 4       0.88      0.70      0.78      1000\n",
      "     Class 5       0.70      0.99      0.82      1000\n",
      "     Class 6       0.76      0.60      0.67      1000\n",
      "     Class 7       0.98      0.83      0.90      1000\n",
      "     Class 8       0.67      0.97      0.80      1000\n",
      "     Class 9       0.97      0.89      0.93      1000\n",
      "\n",
      "   micro avg       0.83      0.83      0.83     10000\n",
      "   macro avg       0.84      0.83      0.82     10000\n",
      "weighted avg       0.84      0.83      0.82     10000\n",
      "\n"
     ]
    }
   ],
   "source": [
    "model = util.load_model('mobilenetv2_50ep', optimizer='adam')\n",
    "score = util.get_scores(model, X_te_res, y_test, y_true)\n",
    "accuracies['mobilenetv2_50ep'] = score[1]\n",
    "del model"
   ]
  },
  {
   "cell_type": "code",
   "execution_count": 15,
   "metadata": {},
   "outputs": [
    {
     "name": "stdout",
     "output_type": "stream",
     "text": [
      "Loaded model from disk\n",
      "              precision    recall  f1-score   support\n",
      "\n",
      "     Class 0       0.87      0.88      0.87      1000\n",
      "     Class 1       0.99      0.99      0.99      1000\n",
      "     Class 2       0.91      0.88      0.89      1000\n",
      "     Class 3       0.92      0.94      0.93      1000\n",
      "     Class 4       0.89      0.89      0.89      1000\n",
      "     Class 5       0.99      0.98      0.98      1000\n",
      "     Class 6       0.78      0.79      0.78      1000\n",
      "     Class 7       0.96      0.97      0.97      1000\n",
      "     Class 8       0.98      0.99      0.99      1000\n",
      "     Class 9       0.97      0.97      0.97      1000\n",
      "\n",
      "   micro avg       0.93      0.93      0.93     10000\n",
      "   macro avg       0.93      0.93      0.93     10000\n",
      "weighted avg       0.93      0.93      0.93     10000\n",
      "\n"
     ]
    }
   ],
   "source": [
    "model = util.load_model('mobilenetv2_50ep_fine', optimizer='adam')\n",
    "score = util.get_scores(model, X_te_res, y_test, y_true)\n",
    "accuracies['mobilenetv2_50ep_fine'] = score[1]\n",
    "del model"
   ]
  },
  {
   "cell_type": "markdown",
   "metadata": {},
   "source": [
    "# Nasnet"
   ]
  },
  {
   "cell_type": "code",
   "execution_count": 16,
   "metadata": {},
   "outputs": [
    {
     "name": "stdout",
     "output_type": "stream",
     "text": [
      "Loaded model from disk\n",
      "              precision    recall  f1-score   support\n",
      "\n",
      "     Class 0       0.00      0.00      0.00      1000\n",
      "     Class 1       0.10      1.00      0.18      1000\n",
      "     Class 2       0.00      0.00      0.00      1000\n",
      "     Class 3       0.00      0.00      0.00      1000\n",
      "     Class 4       0.00      0.00      0.00      1000\n",
      "     Class 5       0.00      0.00      0.00      1000\n",
      "     Class 6       0.00      0.00      0.00      1000\n",
      "     Class 7       0.00      0.00      0.00      1000\n",
      "     Class 8       0.00      0.00      0.00      1000\n",
      "     Class 9       0.00      0.00      0.00      1000\n",
      "\n",
      "   micro avg       0.10      0.10      0.10     10000\n",
      "   macro avg       0.01      0.10      0.02     10000\n",
      "weighted avg       0.01      0.10      0.02     10000\n",
      "\n"
     ]
    },
    {
     "name": "stderr",
     "output_type": "stream",
     "text": [
      "/home/furkan/anaconda3/lib/python3.6/site-packages/sklearn/metrics/classification.py:1143: UndefinedMetricWarning: Precision and F-score are ill-defined and being set to 0.0 in labels with no predicted samples.\n",
      "  'precision', 'predicted', average, warn_for)\n"
     ]
    }
   ],
   "source": [
    "model = util.load_model('nasnet_50ep', optimizer='adam')\n",
    "score = util.get_scores(model, X_te_res, y_test, y_true)\n",
    "accuracies['nasnet_50ep'] = score[1]\n",
    "del model"
   ]
  },
  {
   "cell_type": "code",
   "execution_count": 17,
   "metadata": {},
   "outputs": [
    {
     "name": "stdout",
     "output_type": "stream",
     "text": [
      "Loaded model from disk\n",
      "              precision    recall  f1-score   support\n",
      "\n",
      "     Class 0       0.82      0.88      0.85      1000\n",
      "     Class 1       1.00      0.97      0.98      1000\n",
      "     Class 2       0.89      0.85      0.87      1000\n",
      "     Class 3       0.88      0.95      0.91      1000\n",
      "     Class 4       0.87      0.87      0.87      1000\n",
      "     Class 5       0.97      0.97      0.97      1000\n",
      "     Class 6       0.78      0.72      0.75      1000\n",
      "     Class 7       0.96      0.94      0.95      1000\n",
      "     Class 8       0.97      0.99      0.98      1000\n",
      "     Class 9       0.95      0.97      0.96      1000\n",
      "\n",
      "   micro avg       0.91      0.91      0.91     10000\n",
      "   macro avg       0.91      0.91      0.91     10000\n",
      "weighted avg       0.91      0.91      0.91     10000\n",
      "\n"
     ]
    }
   ],
   "source": [
    "model = util.load_model('nasnet_50ep_fine', optimizer='adam')\n",
    "score = util.get_scores(model, X_te_res, y_test, y_true)\n",
    "accuracies['nasnet_50ep_fine'] = score[1]\n",
    "del model"
   ]
  },
  {
   "cell_type": "markdown",
   "metadata": {},
   "source": [
    "# Inception"
   ]
  },
  {
   "cell_type": "code",
   "execution_count": 18,
   "metadata": {},
   "outputs": [
    {
     "name": "stdout",
     "output_type": "stream",
     "text": [
      "Loaded model from disk\n",
      "              precision    recall  f1-score   support\n",
      "\n",
      "     Class 0       0.94      0.73      0.82      1000\n",
      "     Class 1       0.99      0.99      0.99      1000\n",
      "     Class 2       0.92      0.84      0.88      1000\n",
      "     Class 3       0.86      0.97      0.91      1000\n",
      "     Class 4       0.91      0.72      0.81      1000\n",
      "     Class 5       0.97      0.98      0.98      1000\n",
      "     Class 6       0.63      0.88      0.73      1000\n",
      "     Class 7       0.97      0.95      0.96      1000\n",
      "     Class 8       0.99      0.99      0.99      1000\n",
      "     Class 9       0.97      0.97      0.97      1000\n",
      "\n",
      "   micro avg       0.90      0.90      0.90     10000\n",
      "   macro avg       0.92      0.90      0.90     10000\n",
      "weighted avg       0.92      0.90      0.90     10000\n",
      "\n"
     ]
    }
   ],
   "source": [
    "model = util.load_model('inception_50ep', optimizer='adam')\n",
    "score = util.get_scores(model, X_te_75, y_test, y_true)\n",
    "accuracies['inception_50ep'] = score[1]\n",
    "del model"
   ]
  },
  {
   "cell_type": "code",
   "execution_count": 19,
   "metadata": {},
   "outputs": [
    {
     "name": "stdout",
     "output_type": "stream",
     "text": [
      "Loaded model from disk\n",
      "              precision    recall  f1-score   support\n",
      "\n",
      "     Class 0       0.88      0.89      0.89      1000\n",
      "     Class 1       0.99      1.00      0.99      1000\n",
      "     Class 2       0.93      0.91      0.92      1000\n",
      "     Class 3       0.94      0.95      0.94      1000\n",
      "     Class 4       0.92      0.91      0.92      1000\n",
      "     Class 5       0.99      0.98      0.99      1000\n",
      "     Class 6       0.83      0.82      0.83      1000\n",
      "     Class 7       0.97      0.97      0.97      1000\n",
      "     Class 8       0.99      0.99      0.99      1000\n",
      "     Class 9       0.97      0.98      0.98      1000\n",
      "\n",
      "   micro avg       0.94      0.94      0.94     10000\n",
      "   macro avg       0.94      0.94      0.94     10000\n",
      "weighted avg       0.94      0.94      0.94     10000\n",
      "\n"
     ]
    }
   ],
   "source": [
    "model = util.load_model('inception_50ep_fine', optimizer='adam')\n",
    "score = util.get_scores(model, X_te_75, y_test, y_true)\n",
    "accuracies['inception_50ep_fine'] = score[1]\n",
    "del model"
   ]
  },
  {
   "cell_type": "markdown",
   "metadata": {},
   "source": [
    "# Resnet"
   ]
  },
  {
   "cell_type": "code",
   "execution_count": 20,
   "metadata": {},
   "outputs": [
    {
     "name": "stdout",
     "output_type": "stream",
     "text": [
      "Loaded model from disk\n",
      "              precision    recall  f1-score   support\n",
      "\n",
      "     Class 0       0.78      0.90      0.84      1000\n",
      "     Class 1       0.99      0.99      0.99      1000\n",
      "     Class 2       0.82      0.89      0.86      1000\n",
      "     Class 3       0.95      0.88      0.92      1000\n",
      "     Class 4       0.90      0.79      0.84      1000\n",
      "     Class 5       0.97      0.97      0.97      1000\n",
      "     Class 6       0.79      0.69      0.74      1000\n",
      "     Class 7       0.96      0.94      0.95      1000\n",
      "     Class 8       0.92      0.99      0.96      1000\n",
      "     Class 9       0.95      0.98      0.96      1000\n",
      "\n",
      "   micro avg       0.90      0.90      0.90     10000\n",
      "   macro avg       0.90      0.90      0.90     10000\n",
      "weighted avg       0.90      0.90      0.90     10000\n",
      "\n"
     ]
    }
   ],
   "source": [
    "model = util.load_model('resnet_50ep', optimizer='adam')\n",
    "score = util.get_scores(model, X_te_75, y_test, y_true)\n",
    "accuracies['resnet_50ep'] = score[1]\n",
    "del model"
   ]
  },
  {
   "cell_type": "code",
   "execution_count": 21,
   "metadata": {},
   "outputs": [
    {
     "name": "stdout",
     "output_type": "stream",
     "text": [
      "Loaded model from disk\n",
      "              precision    recall  f1-score   support\n",
      "\n",
      "     Class 0       0.89      0.88      0.89      1000\n",
      "     Class 1       1.00      0.99      0.99      1000\n",
      "     Class 2       0.93      0.91      0.92      1000\n",
      "     Class 3       0.93      0.95      0.94      1000\n",
      "     Class 4       0.91      0.91      0.91      1000\n",
      "     Class 5       0.99      0.98      0.98      1000\n",
      "     Class 6       0.82      0.82      0.82      1000\n",
      "     Class 7       0.96      0.96      0.96      1000\n",
      "     Class 8       0.99      0.98      0.99      1000\n",
      "     Class 9       0.97      0.98      0.97      1000\n",
      "\n",
      "   micro avg       0.94      0.94      0.94     10000\n",
      "   macro avg       0.94      0.94      0.94     10000\n",
      "weighted avg       0.94      0.94      0.94     10000\n",
      "\n"
     ]
    }
   ],
   "source": [
    "model = util.load_model('resnet_50ep_fine', optimizer='adam')\n",
    "score = util.get_scores(model, X_te_75, y_test, y_true)\n",
    "accuracies['resnet_50ep_fine'] = score[1]\n",
    "del model"
   ]
  },
  {
   "cell_type": "markdown",
   "metadata": {},
   "source": [
    "# Transfer learning"
   ]
  },
  {
   "cell_type": "code",
   "execution_count": 27,
   "metadata": {},
   "outputs": [
    {
     "name": "stdout",
     "output_type": "stream",
     "text": [
      "Loaded model from disk\n",
      "              precision    recall  f1-score   support\n",
      "\n",
      "     Class 0       0.91      0.91      0.91      1000\n",
      "     Class 1       1.00      1.00      1.00      1000\n",
      "     Class 2       0.93      0.93      0.93      1000\n",
      "     Class 3       0.94      0.96      0.95      1000\n",
      "     Class 4       0.94      0.93      0.93      1000\n",
      "     Class 5       0.99      0.99      0.99      1000\n",
      "     Class 6       0.86      0.85      0.85      1000\n",
      "     Class 7       0.97      0.98      0.98      1000\n",
      "     Class 8       0.99      0.99      0.99      1000\n",
      "     Class 9       0.98      0.98      0.98      1000\n",
      "\n",
      "   micro avg       0.95      0.95      0.95     10000\n",
      "   macro avg       0.95      0.95      0.95     10000\n",
      "weighted avg       0.95      0.95      0.95     10000\n",
      "\n"
     ]
    }
   ],
   "source": [
    "X_te_75 = X_te_75.reshape(X_te_75.shape[0], 75, 75)\n",
    "test_rgb_batch = np.repeat(X_te_75[..., np.newaxis], 3, -1)\n",
    "\n",
    "model = util.load_model('inception_transfer_50ep', optimizer='adam')\n",
    "score = util.get_scores(model, test_rgb_batch, y_test, y_true)\n",
    "accuracies['inception_transfer_50ep'] = score[1]\n",
    "del model"
   ]
  },
  {
   "cell_type": "markdown",
   "metadata": {},
   "source": [
    "# Final Results"
   ]
  },
  {
   "cell_type": "code",
   "execution_count": 34,
   "metadata": {},
   "outputs": [
    {
     "data": {
      "text/html": [
       "<div>\n",
       "<style scoped>\n",
       "    .dataframe tbody tr th:only-of-type {\n",
       "        vertical-align: middle;\n",
       "    }\n",
       "\n",
       "    .dataframe tbody tr th {\n",
       "        vertical-align: top;\n",
       "    }\n",
       "\n",
       "    .dataframe thead th {\n",
       "        text-align: right;\n",
       "    }\n",
       "</style>\n",
       "<table border=\"1\" class=\"dataframe\">\n",
       "  <thead>\n",
       "    <tr style=\"text-align: right;\">\n",
       "      <th></th>\n",
       "      <th>0</th>\n",
       "    </tr>\n",
       "  </thead>\n",
       "  <tbody>\n",
       "    <tr>\n",
       "      <th>nasnet_50ep</th>\n",
       "      <td>0.1000</td>\n",
       "    </tr>\n",
       "    <tr>\n",
       "      <th>mobilenetv2_50ep</th>\n",
       "      <td>0.8264</td>\n",
       "    </tr>\n",
       "    <tr>\n",
       "      <th>alexnet_50ep_fine</th>\n",
       "      <td>0.8445</td>\n",
       "    </tr>\n",
       "    <tr>\n",
       "      <th>alexnet_50ep</th>\n",
       "      <td>0.8603</td>\n",
       "    </tr>\n",
       "    <tr>\n",
       "      <th>mlp</th>\n",
       "      <td>0.8844</td>\n",
       "    </tr>\n",
       "    <tr>\n",
       "      <th>inception_50ep</th>\n",
       "      <td>0.9026</td>\n",
       "    </tr>\n",
       "    <tr>\n",
       "      <th>resnet_50ep</th>\n",
       "      <td>0.9031</td>\n",
       "    </tr>\n",
       "    <tr>\n",
       "      <th>nasnet_50ep_fine</th>\n",
       "      <td>0.9097</td>\n",
       "    </tr>\n",
       "    <tr>\n",
       "      <th>simple_cnn_50ep</th>\n",
       "      <td>0.9201</td>\n",
       "    </tr>\n",
       "    <tr>\n",
       "      <th>simple_cnn_bn_50ep</th>\n",
       "      <td>0.9223</td>\n",
       "    </tr>\n",
       "    <tr>\n",
       "      <th>simple_cnn_bn_do_50ep</th>\n",
       "      <td>0.9234</td>\n",
       "    </tr>\n",
       "    <tr>\n",
       "      <th>simple_cnn_dropout_50ep</th>\n",
       "      <td>0.9248</td>\n",
       "    </tr>\n",
       "    <tr>\n",
       "      <th>mobilenetv2_50ep_fine</th>\n",
       "      <td>0.9267</td>\n",
       "    </tr>\n",
       "    <tr>\n",
       "      <th>simple_cnn_bn_do_50ep_fine</th>\n",
       "      <td>0.9308</td>\n",
       "    </tr>\n",
       "    <tr>\n",
       "      <th>simple_cnn_50ep_fine</th>\n",
       "      <td>0.9314</td>\n",
       "    </tr>\n",
       "    <tr>\n",
       "      <th>simple_cnn_dropout_50ep_fine</th>\n",
       "      <td>0.9314</td>\n",
       "    </tr>\n",
       "    <tr>\n",
       "      <th>simple_cnn_bn_50ep_fine</th>\n",
       "      <td>0.9339</td>\n",
       "    </tr>\n",
       "    <tr>\n",
       "      <th>resnet_50ep_fine</th>\n",
       "      <td>0.9370</td>\n",
       "    </tr>\n",
       "    <tr>\n",
       "      <th>inception_50ep_fine</th>\n",
       "      <td>0.9412</td>\n",
       "    </tr>\n",
       "    <tr>\n",
       "      <th>inception_transfer_50ep</th>\n",
       "      <td>0.9513</td>\n",
       "    </tr>\n",
       "  </tbody>\n",
       "</table>\n",
       "</div>"
      ],
      "text/plain": [
       "                                   0\n",
       "nasnet_50ep                   0.1000\n",
       "mobilenetv2_50ep              0.8264\n",
       "alexnet_50ep_fine             0.8445\n",
       "alexnet_50ep                  0.8603\n",
       "mlp                           0.8844\n",
       "inception_50ep                0.9026\n",
       "resnet_50ep                   0.9031\n",
       "nasnet_50ep_fine              0.9097\n",
       "simple_cnn_50ep               0.9201\n",
       "simple_cnn_bn_50ep            0.9223\n",
       "simple_cnn_bn_do_50ep         0.9234\n",
       "simple_cnn_dropout_50ep       0.9248\n",
       "mobilenetv2_50ep_fine         0.9267\n",
       "simple_cnn_bn_do_50ep_fine    0.9308\n",
       "simple_cnn_50ep_fine          0.9314\n",
       "simple_cnn_dropout_50ep_fine  0.9314\n",
       "simple_cnn_bn_50ep_fine       0.9339\n",
       "resnet_50ep_fine              0.9370\n",
       "inception_50ep_fine           0.9412\n",
       "inception_transfer_50ep       0.9513"
      ]
     },
     "metadata": {},
     "output_type": "display_data"
    }
   ],
   "source": [
    "from IPython.display import display, HTML\n",
    "\n",
    "\n",
    "df = pd.DataFrame.from_dict(accuracies, orient='index')\n",
    "df = df.sort_values(by=0)\n",
    "display(df)"
   ]
  },
  {
   "cell_type": "code",
   "execution_count": null,
   "metadata": {},
   "outputs": [],
   "source": []
  }
 ],
 "metadata": {
  "kernelspec": {
   "display_name": "Python 3",
   "language": "python",
   "name": "python3"
  },
  "language_info": {
   "codemirror_mode": {
    "name": "ipython",
    "version": 3
   },
   "file_extension": ".py",
   "mimetype": "text/x-python",
   "name": "python",
   "nbconvert_exporter": "python",
   "pygments_lexer": "ipython3",
   "version": "3.6.8"
  }
 },
 "nbformat": 4,
 "nbformat_minor": 2
}
