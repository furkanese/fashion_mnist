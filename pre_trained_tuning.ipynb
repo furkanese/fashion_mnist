{
 "cells": [
  {
   "cell_type": "code",
   "execution_count": 1,
   "metadata": {},
   "outputs": [
    {
     "name": "stderr",
     "output_type": "stream",
     "text": [
      "Using TensorFlow backend.\n"
     ]
    },
    {
     "name": "stdout",
     "output_type": "stream",
     "text": [
      "2.2.4\n"
     ]
    }
   ],
   "source": [
    "from keras.utils import to_categorical\n",
    "import numpy as np\n",
    "import pandas as pd\n",
    "from utils import networks, util\n",
    "import copy\n",
    "from keras import backend as K \n",
    "from keras.applications import InceptionV3\n",
    "from keras.layers import GlobalAveragePooling2D, Dense, Input, Dropout\n",
    "from keras.models import Model\n",
    "from keras.callbacks import Callback\n",
    "from keras import callbacks\n",
    "from keras.preprocessing.image import ImageDataGenerator"
   ]
  },
  {
   "cell_type": "code",
   "execution_count": 2,
   "metadata": {},
   "outputs": [],
   "source": [
    "data_train = pd.read_csv('./fashionmnist/fashion-mnist_train.csv')\n",
    "data_test = pd.read_csv('./fashionmnist/fashion-mnist_test.csv')\n",
    "# Read our image\n",
    "img_rows, img_cols = 75, 75\n",
    "input_shape = (img_rows, img_cols, 1)\n",
    "\n",
    "X = np.array(data_train.iloc[:, 1:])\n",
    "y = to_categorical(np.array(data_train.iloc[:, 0]))\n",
    "\n",
    "#Test data\n",
    "X_test = np.array(data_test.iloc[:, 1:])\n",
    "y_test = to_categorical(np.array(data_test.iloc[:, 0]))\n",
    "\n",
    "# InceptionV3 needs at least 75,75 input\n",
    "_, _, _, X_tr_res, X_val_res, X_te_res, y_train, y_val = util.prepare_data(X,y,X_test,75,75)"
   ]
  },
  {
   "cell_type": "code",
   "execution_count": 3,
   "metadata": {},
   "outputs": [],
   "source": [
    "# Network needs RGB images so we copy data to 3 dimentions\n",
    "\n",
    "X_tr_res = X_tr_res.reshape(X_tr_res.shape[0], img_rows, img_cols)\n",
    "X_val_res = X_val_res.reshape(X_val_res.shape[0], img_rows, img_cols)\n",
    "X_te_res = X_te_res.reshape(X_te_res.shape[0], img_rows, img_cols)\n",
    "\n",
    "tr_rgb_batch = np.repeat(X_tr_res[..., np.newaxis], 3, -1)\n",
    "val_rgb_batch = np.repeat(X_val_res[..., np.newaxis], 3, -1)\n",
    "test_rgb_batch = np.repeat(X_te_res[..., np.newaxis], 3, -1)"
   ]
  },
  {
   "cell_type": "code",
   "execution_count": 4,
   "metadata": {},
   "outputs": [],
   "source": [
    "batch_size = 256\n",
    "epochs = 50\n",
    "num_classes = 10"
   ]
  },
  {
   "cell_type": "code",
   "execution_count": 5,
   "metadata": {},
   "outputs": [],
   "source": [
    "datagen = ImageDataGenerator(\n",
    "            shear_range=0.1, # shear_range is for randomly applying shearing transformations\n",
    "            zoom_range = 0.01, #zoom_range is for randomly zooming inside pictures\n",
    "            horizontal_flip=True)"
   ]
  },
  {
   "cell_type": "code",
   "execution_count": 6,
   "metadata": {},
   "outputs": [
    {
     "name": "stdout",
     "output_type": "stream",
     "text": [
      "Epoch 1/50\n",
      "750/750 [==============================] - 172s 229ms/step - loss: 0.2315 - acc: 0.9196 - val_loss: 0.3106 - val_acc: 0.8993\n",
      "Epoch 2/50\n",
      "750/750 [==============================] - 154s 206ms/step - loss: 0.1241 - acc: 0.9559 - val_loss: 0.2230 - val_acc: 0.9283\n",
      "Epoch 3/50\n",
      "750/750 [==============================] - 155s 206ms/step - loss: 0.0856 - acc: 0.9698 - val_loss: 0.2398 - val_acc: 0.9290\n",
      "Epoch 4/50\n",
      "750/750 [==============================] - 155s 206ms/step - loss: 0.0935 - acc: 0.9677 - val_loss: 0.2112 - val_acc: 0.9312\n",
      "Epoch 5/50\n",
      "750/750 [==============================] - 154s 206ms/step - loss: 0.0510 - acc: 0.9819 - val_loss: 0.2655 - val_acc: 0.9289\n",
      "Epoch 6/50\n",
      "750/750 [==============================] - 155s 206ms/step - loss: 0.0380 - acc: 0.9868 - val_loss: 0.2733 - val_acc: 0.9301\n",
      "Epoch 7/50\n",
      "750/750 [==============================] - 155s 207ms/step - loss: 0.0292 - acc: 0.9899 - val_loss: 0.2898 - val_acc: 0.9319\n",
      "Epoch 8/50\n",
      "750/750 [==============================] - 155s 207ms/step - loss: 0.0607 - acc: 0.9823 - val_loss: 14.4942 - val_acc: 0.1007\n",
      "Epoch 9/50\n",
      "750/750 [==============================] - 155s 207ms/step - loss: 0.0731 - acc: 0.9743 - val_loss: 0.2620 - val_acc: 0.9377\n",
      "Epoch 10/50\n",
      "750/750 [==============================] - 155s 207ms/step - loss: 0.0206 - acc: 0.9932 - val_loss: 0.3002 - val_acc: 0.9382\n",
      "Epoch 11/50\n",
      "750/750 [==============================] - 155s 207ms/step - loss: 0.0178 - acc: 0.9940 - val_loss: 0.2878 - val_acc: 0.9369\n",
      "\n",
      "Epoch 00011: ReduceLROnPlateau reducing learning rate to 0.00010000000474974513.\n",
      "Epoch 12/50\n",
      "750/750 [==============================] - 155s 207ms/step - loss: 0.0041 - acc: 0.9989 - val_loss: 0.2796 - val_acc: 0.9477\n",
      "Epoch 13/50\n",
      "750/750 [==============================] - 155s 207ms/step - loss: 8.3014e-04 - acc: 0.9998 - val_loss: 0.3086 - val_acc: 0.9483\n",
      "Epoch 14/50\n",
      "750/750 [==============================] - 155s 207ms/step - loss: 2.8953e-04 - acc: 1.0000 - val_loss: 0.3329 - val_acc: 0.9483\n"
     ]
    }
   ],
   "source": [
    "base_model = InceptionV3(weights='imagenet', include_top=False)\n",
    "\n",
    "x = base_model.output\n",
    "x = GlobalAveragePooling2D()(x)\n",
    "x = Dropout(0.3)(x)\n",
    "predictions = Dense(num_classes, activation='softmax')(x)\n",
    "\n",
    "model = Model(inputs=base_model.input, outputs=predictions)\n",
    "model.compile(optimizer='adam', loss='categorical_crossentropy', metrics=['accuracy'])\n",
    "#model.summary()\n",
    "\n",
    "reduce_lr_loss = callbacks.ReduceLROnPlateau(monitor='val_loss', factor=0.1, patience=7, verbose=1, min_delta=1e-4, mode='min')\n",
    "early_stopping = callbacks.EarlyStopping(monitor='val_loss', patience=10, verbose=0, mode='min')\n",
    "callbacks_list = [reduce_lr_loss, early_stopping]\n",
    "\n",
    "history = model.fit_generator(datagen.flow(tr_rgb_batch, y_train,batch_size=batch_size),\n",
    "          steps_per_epoch=len(tr_rgb_batch) / 64,\n",
    "          epochs=epochs,\n",
    "          verbose=1,\n",
    "          validation_data=(val_rgb_batch, y_val),\n",
    "          callbacks=[early_stopping, reduce_lr_loss])\n",
    "util.save_everything(model,'inception_transfer_50ep', history)"
   ]
  },
  {
   "cell_type": "code",
   "execution_count": 7,
   "metadata": {},
   "outputs": [
    {
     "data": {
      "image/png": "[encoded data removed]",
      "text/plain": [
       "<Figure size 432x288 with 1 Axes>"
      ]
     },
     "metadata": {
      "needs_background": "light"
     },
     "output_type": "display_data"
    },
    {
     "data": {
      "image/png": "[encoded data removed]",
      "text/plain": [
       "<Figure size 432x288 with 1 Axes>"
      ]
     },
     "metadata": {
      "needs_background": "light"
     },
     "output_type": "display_data"
    }
   ],
   "source": [
    "import matplotlib.pyplot as plt\n",
    "%matplotlib inline\n",
    "accuracy = history.history['acc']\n",
    "val_accuracy = history.history['val_acc']\n",
    "loss = history.history['loss']\n",
    "val_loss = history.history['val_loss']\n",
    "epochs_r = range(len(accuracy))\n",
    "plt.plot(epochs_r, accuracy, 'bo', label='Training accuracy')\n",
    "plt.plot(epochs_r, val_accuracy, 'b', label='Validation accuracy')\n",
    "plt.title('Training and validation accuracy')\n",
    "plt.legend()\n",
    "plt.figure()\n",
    "plt.plot(epochs_r, loss, 'bo', label='Training loss')\n",
    "plt.plot(epochs_r, val_loss, 'b', label='Validation loss')\n",
    "plt.title('Training and validation loss')\n",
    "plt.legend()\n",
    "plt.show()"
   ]
  },
  {
   "cell_type": "code",
   "execution_count": null,
   "metadata": {},
   "outputs": [],
   "source": []
  }
 ],
 "metadata": {
  "kernelspec": {
   "display_name": "Python 3",
   "language": "python",
   "name": "python3"
  },
  "language_info": {
   "codemirror_mode": {
    "name": "ipython",
    "version": 3
   },
   "file_extension": ".py",
   "mimetype": "text/x-python",
   "name": "python",
   "nbconvert_exporter": "python",
   "pygments_lexer": "ipython3",
   "version": "3.6.8"
  }
 },
 "nbformat": 4,
 "nbformat_minor": 2
}
